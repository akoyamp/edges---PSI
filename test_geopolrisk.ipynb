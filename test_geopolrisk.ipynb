{
 "cells": [
  {
   "cell_type": "code",
   "execution_count": 1,
   "id": "initial_id",
   "metadata": {
    "ExecuteTime": {
     "end_time": "2025-03-19T08:22:44.210405Z",
     "start_time": "2025-03-19T08:22:42.211983Z"
    }
   },
   "outputs": [],
   "source": [
    "import bw2data, bw2calc, bw2io\n",
    "from edges import EdgeLCIA, get_available_methods\n",
    "from bw2analyzer.contribution import ContributionAnalysis"
   ]
  },
  {
   "cell_type": "code",
   "execution_count": 2,
   "id": "60fb4583bf7ce4de",
   "metadata": {
    "ExecuteTime": {
     "end_time": "2025-03-19T08:28:28.927751Z",
     "start_time": "2025-03-19T08:28:28.568261Z"
    }
   },
   "outputs": [
    {
     "data": {
      "text/plain": [
       "'market for electricity, medium voltage' (kilowatt hour, SS, None)"
      ]
     },
     "execution_count": 2,
     "metadata": {},
     "output_type": "execute_result"
    }
   ],
   "source": [
    "bw2data.projects.set_current(\"ecoinvent-3.10-cutoff\")\n",
    "act = bw2data.Database(\"ecoinvent-3.10.1-cutoff\").search(\"electricity production, medium voltage\")[-1]\n",
    "#act = bw2data.Database(\"ecoinvent-3.10.1-cutoff\").random()\n",
    "act"
   ]
  },
  {
   "cell_type": "code",
   "execution_count": 3,
   "id": "69aa2b2fa49ca85b",
   "metadata": {
    "ExecuteTime": {
     "end_time": "2025-03-19T08:28:36.997403Z",
     "start_time": "2025-03-19T08:28:32.065062Z"
    }
   },
   "outputs": [
    {
     "name": "stdout",
     "output_type": "stream",
     "text": [
      "Mapping 155115 exchanges...\n"
     ]
    },
    {
     "name": "stderr",
     "output_type": "stream",
     "text": [
      "Mapping exchanges: 100%|██████████| 51932/51932 [00:14<00:00, 3695.84it/s]\n"
     ]
    },
    {
     "name": "stdout",
     "output_type": "stream",
     "text": [
      "Processed edges: 161\n",
      "Handling static regions...\n"
     ]
    },
    {
     "name": "stderr",
     "output_type": "stream",
     "text": [
      "Processing static groups (pass 1): 0it [00:00, ?it/s]\n"
     ]
    },
    {
     "name": "stdout",
     "output_type": "stream",
     "text": [
      "The length of Entered edge list is: %s 0\n"
     ]
    },
    {
     "name": "stderr",
     "output_type": "stream",
     "text": [
      "Processing static groups (pass 2): 0it [00:00, ?it/s]\n",
      "Processing static groups (pass 1): 100%|██████████| 6/6 [00:00<00:00, 1199.97it/s]\n"
     ]
    },
    {
     "name": "stdout",
     "output_type": "stream",
     "text": [
      "The length of Entered edge list is: %s 38433\n"
     ]
    },
    {
     "ename": "ValueError",
     "evalue": "too many values to unpack (expected 4)",
     "output_type": "error",
     "traceback": [
      "\u001b[31m---------------------------------------------------------------------------\u001b[39m",
      "\u001b[31mValueError\u001b[39m                                Traceback (most recent call last)",
      "\u001b[36mCell\u001b[39m\u001b[36m \u001b[39m\u001b[32mIn[3]\u001b[39m\u001b[32m, line 5\u001b[39m\n\u001b[32m      3\u001b[39m LCA.lci()\n\u001b[32m      4\u001b[39m LCA.map_exchanges()\n\u001b[32m----> \u001b[39m\u001b[32m5\u001b[39m \u001b[43mLCA\u001b[49m\u001b[43m.\u001b[49m\u001b[43mmap_aggregate_locations\u001b[49m\u001b[43m(\u001b[49m\u001b[43m)\u001b[49m\n\u001b[32m      6\u001b[39m LCA.map_dynamic_locations()\n\u001b[32m      7\u001b[39m LCA.map_remaining_locations_to_global()\n",
      "\u001b[36mFile \u001b[39m\u001b[32md:\\Projects\\Github\\edges---PSI\\edges\\edgelcia.py:869\u001b[39m, in \u001b[36mEdgeLCIA.map_aggregate_locations\u001b[39m\u001b[34m(self)\u001b[39m\n\u001b[32m    860\u001b[39m \u001b[38;5;66;03m# Pass 2\u001b[39;00m\n\u001b[32m    861\u001b[39m compute_cf_memoized = compute_cf_memoized_factory(\n\u001b[32m    862\u001b[39m     cf_index=\u001b[38;5;28mself\u001b[39m.cf_index,\n\u001b[32m    863\u001b[39m     required_supplier_fields=\u001b[38;5;28mself\u001b[39m.required_supplier_fields,\n\u001b[32m   (...)\u001b[39m\u001b[32m    866\u001b[39m     logger=\u001b[38;5;28mself\u001b[39m.logger,\n\u001b[32m    867\u001b[39m )\n\u001b[32m--> \u001b[39m\u001b[32m869\u001b[39m grouped_edges = \u001b[43mgroup_edges_by_signature\u001b[49m\u001b[43m(\u001b[49m\n\u001b[32m    870\u001b[39m \u001b[43m    \u001b[49m\u001b[43medge_list\u001b[49m\u001b[43m=\u001b[49m\u001b[43mremaining_edges\u001b[49m\u001b[43m,\u001b[49m\n\u001b[32m    871\u001b[39m \u001b[43m    \u001b[49m\u001b[43mrequired_supplier_fields\u001b[49m\u001b[43m=\u001b[49m\u001b[38;5;28;43mself\u001b[39;49m\u001b[43m.\u001b[49m\u001b[43mrequired_supplier_fields\u001b[49m\u001b[43m,\u001b[49m\n\u001b[32m    872\u001b[39m \u001b[43m    \u001b[49m\u001b[43mrequired_consumer_fields\u001b[49m\u001b[43m=\u001b[49m\u001b[38;5;28;43mself\u001b[39;49m\u001b[43m.\u001b[49m\u001b[43mrequired_consumer_fields\u001b[49m\u001b[43m,\u001b[49m\n\u001b[32m    873\u001b[39m \u001b[43m    \u001b[49m\u001b[43mgeo\u001b[49m\u001b[43m=\u001b[49m\u001b[38;5;28;43mself\u001b[39;49m\u001b[43m.\u001b[49m\u001b[43mgeo\u001b[49m\u001b[43m,\u001b[49m\n\u001b[32m    874\u001b[39m \u001b[43m    \u001b[49m\u001b[43mweights\u001b[49m\u001b[43m=\u001b[49m\u001b[38;5;28;43mself\u001b[39;49m\u001b[43m.\u001b[49m\u001b[43mweights\u001b[49m\u001b[43m,\u001b[49m\n\u001b[32m    875\u001b[39m \u001b[43m\u001b[49m\u001b[43m)\u001b[49m\n\u001b[32m    877\u001b[39m \u001b[38;5;28;01mfor\u001b[39;00m (\n\u001b[32m    878\u001b[39m     s_key,\n\u001b[32m    879\u001b[39m     c_key,\n\u001b[32m   (...)\u001b[39m\u001b[32m    882\u001b[39m     grouped_edges.items(), desc=\u001b[33m\"\u001b[39m\u001b[33mProcessing static groups (pass 2)\u001b[39m\u001b[33m\"\u001b[39m\n\u001b[32m    883\u001b[39m ):\n\u001b[32m    884\u001b[39m     new_cf, matched_cf_obj = compute_cf_memoized(\n\u001b[32m    885\u001b[39m         s_key, c_key, candidate_suppliers, candidate_consumers\n\u001b[32m    886\u001b[39m     )\n",
      "\u001b[36mFile \u001b[39m\u001b[32md:\\Projects\\Github\\edges---PSI\\edges\\flow_matching.py:510\u001b[39m, in \u001b[36mgroup_edges_by_signature\u001b[39m\u001b[34m(edge_list, required_supplier_fields, required_consumer_fields, geo, weights)\u001b[39m\n\u001b[32m    508\u001b[39m grouped = defaultdict(\u001b[38;5;28mlist\u001b[39m)\n\u001b[32m    509\u001b[39m \u001b[38;5;28mprint\u001b[39m(\u001b[33m\"\u001b[39m\u001b[33mThe length of Entered edge list is: \u001b[39m\u001b[38;5;132;01m%s\u001b[39;00m\u001b[33m\"\u001b[39m, \u001b[38;5;28mlen\u001b[39m(edge_list))\n\u001b[32m--> \u001b[39m\u001b[32m510\u001b[39m \u001b[38;5;28;01mfor\u001b[39;00m (\n\u001b[32m    511\u001b[39m     supplier_idx,\n\u001b[32m    512\u001b[39m     consumer_idx,\n\u001b[32m    513\u001b[39m     supplier_info,\n\u001b[32m    514\u001b[39m     consumer_info,\n\u001b[32m    515\u001b[39m     \n\u001b[32m    516\u001b[39m ) \u001b[38;5;129;01min\u001b[39;00m edge_list:\n\u001b[32m    517\u001b[39m     s_filtered = normalize_signature_data(supplier_info, required_supplier_fields)\n\u001b[32m    518\u001b[39m     c_filtered = normalize_signature_data(consumer_info, required_consumer_fields)\n",
      "\u001b[31mValueError\u001b[39m: too many values to unpack (expected 4)"
     ]
    }
   ],
   "source": [
    "method = ('GeoPolRisk', 'paired', '2024')\n",
    "LCA = EdgeLCIA({act: 1}, method)\n",
    "LCA.lci()\n",
    "LCA.map_exchanges()\n",
    "LCA.map_aggregate_locations()\n",
    "LCA.map_dynamic_locations()\n",
    "LCA.map_remaining_locations_to_global()\n",
    "LCA.evaluate_cfs()\n",
    "LCA.lcia()"
   ]
  },
  {
   "cell_type": "code",
   "execution_count": null,
   "id": "b2a3b6f9e9373ccb",
   "metadata": {
    "ExecuteTime": {
     "end_time": "2025-03-19T08:28:40.518931Z",
     "start_time": "2025-03-19T08:28:40.440962Z"
    }
   },
   "outputs": [],
   "source": [
    "df = LCA.generate_cf_table()"
   ]
  },
  {
   "cell_type": "code",
   "execution_count": null,
   "id": "8302e1f41ff8c048",
   "metadata": {
    "ExecuteTime": {
     "end_time": "2025-03-19T08:28:41.322884Z",
     "start_time": "2025-03-19T08:28:41.319516Z"
    }
   },
   "outputs": [],
   "source": [
    "len(df)"
   ]
  },
  {
   "cell_type": "code",
   "execution_count": null,
   "id": "167839e9f16b2d8a",
   "metadata": {
    "ExecuteTime": {
     "end_time": "2025-03-19T08:28:48.962720Z",
     "start_time": "2025-03-19T08:28:48.956412Z"
    }
   },
   "outputs": [],
   "source": [
    "df"
   ]
  },
  {
   "cell_type": "code",
   "execution_count": null,
   "id": "1daf91e319d5bbf6",
   "metadata": {
    "ExecuteTime": {
     "end_time": "2025-03-19T08:10:43.286005Z",
     "start_time": "2025-03-19T08:10:43.279978Z"
    }
   },
   "outputs": [],
   "source": [
    "df.groupby([\"supplier location\", \"consumer location\"])[\"impact\"].mean()"
   ]
  },
  {
   "cell_type": "code",
   "execution_count": null,
   "id": "a49e1726c5aa554c",
   "metadata": {
    "ExecuteTime": {
     "end_time": "2025-03-19T08:07:58.406538Z",
     "start_time": "2025-03-19T08:07:58.401408Z"
    }
   },
   "outputs": [],
   "source": [
    "LCA.statistics()"
   ]
  },
  {
   "cell_type": "code",
   "execution_count": null,
   "id": "9d00bbea6fac2fb4",
   "metadata": {
    "ExecuteTime": {
     "end_time": "2025-03-16T20:12:32.148171Z",
     "start_time": "2025-03-16T20:12:32.141783Z"
    }
   },
   "outputs": [],
   "source": [
    "LCA.score"
   ]
  },
  {
   "cell_type": "code",
   "execution_count": null,
   "id": "587d09d00fa686f5",
   "metadata": {
    "ExecuteTime": {
     "end_time": "2025-03-16T20:04:02.366480Z",
     "start_time": "2025-03-16T20:04:02.263092Z"
    }
   },
   "outputs": [],
   "source": [
    "df = LCA.generate_cf_table()"
   ]
  },
  {
   "cell_type": "code",
   "execution_count": null,
   "id": "f129e5fc4a42bf21",
   "metadata": {
    "ExecuteTime": {
     "end_time": "2025-03-16T20:04:05.921431Z",
     "start_time": "2025-03-16T20:04:05.912183Z"
    }
   },
   "outputs": [],
   "source": [
    "df"
   ]
  },
  {
   "cell_type": "code",
   "execution_count": null,
   "id": "2fe1fc0887594867",
   "metadata": {
    "ExecuteTime": {
     "end_time": "2025-03-16T20:03:51.537925Z",
     "start_time": "2025-03-16T20:03:51.487389Z"
    }
   },
   "outputs": [],
   "source": [
    "LCA.statistics()"
   ]
  },
  {
   "cell_type": "code",
   "execution_count": null,
   "id": "34fbc8a561ae57cb",
   "metadata": {
    "ExecuteTime": {
     "end_time": "2025-03-19T08:27:21.541570Z",
     "start_time": "2025-03-19T08:27:16.024163Z"
    }
   },
   "outputs": [],
   "source": [
    "import matplotlib.pyplot as plt\n",
    "methods = [('GeoPolRisk', 'paired', '2024'),]\n",
    "bw2data.projects.set_current(\"ecoinvent-3.10-cutoff\")\n",
    "act = bw2data.Database(\"ecoinvent-3.10.1-cutoff\").random()\n",
    "print(act)\n",
    "for method in methods:\n",
    "    LCA = EdgeLCIA({act: 1}, method)\n",
    "    LCA.lci()\n",
    "    LCA.map_exchanges()\n",
    "    LCA.map_aggregate_locations()\n",
    "    LCA.map_dynamic_locations()\n",
    "    LCA.map_remaining_locations_to_global()\n",
    "    LCA.evaluate_cfs()\n",
    "    LCA.lcia()\n",
    "    df = LCA.generate_cf_table()\n",
    "\n",
    "    cutoff = 0.01\n",
    "\n",
    "    # remove rows for which \"amount\" is below the cutoff\n",
    "    total = df[\"impact\"].sum()\n",
    "    df = df[df[\"impact\"] > cutoff * total]\n",
    "\n",
    "    # Plotting\n",
    "    fig, axes = plt.subplots(3, 2, figsize=(10, 12))\n",
    "\n",
    "    # 1. Bar plot of \"amount\" by \"supplier name\"\n",
    "    df.groupby(\"supplier name\")[\"impact\"].sum().plot(kind=\"bar\", ax=axes[0, 0])\n",
    "    axes[0, 0].set_title(\"Impact by Supplier Name\")\n",
    "    axes[0, 0].set_ylabel(\"Impact\")\n",
    "    axes[0, 0].tick_params(axis=\"x\", rotation=45)\n",
    "\n",
    "    # 2. Bar plot of \"amount\" by \"consumer name\"\n",
    "    df.groupby(\"consumer name\")[\"impact\"].sum().plot(kind=\"bar\", ax=axes[0, 1])\n",
    "    axes[0, 1].set_title(\"Impact by Consumer Name\")\n",
    "    axes[0, 1].set_ylabel(\"Impact\")\n",
    "    axes[0, 1].set_xticklabels(\n",
    "        [label.get_text().replace(\", \", \"\\n\") for label in axes[0, 1].get_xticklabels()],\n",
    "        rotation=45,\n",
    "        ha=\"right\",\n",
    "    )\n",
    "\n",
    "    # 3. Bar plot of \"impact\" by \"consumer location\"\n",
    "    df.groupby(\"consumer location\")[\"impact\"].sum().plot(kind=\"bar\", ax=axes[1, 0])\n",
    "    axes[1, 0].set_title(\"Impact by Consumer Location\")\n",
    "    axes[1, 0].set_ylabel(\"Impact\")\n",
    "    axes[1, 0].tick_params(axis=\"x\", rotation=45)\n",
    "\n",
    "\n",
    "    # 3. Bar plot of \"impact\" by \"supplier location\"\n",
    "    df.groupby(\"supplier location\")[\"impact\"].sum().plot(kind=\"bar\", ax=axes[1, 1])\n",
    "    axes[1, 1].set_title(\"Impact by Supplier Location\")\n",
    "    axes[1, 1].set_ylabel(\"Impact\")\n",
    "    axes[1, 1].tick_params(axis=\"x\", rotation=45)\n",
    "\n",
    "\n",
    "    # 4. Stacked bar plot for \"amount\" by \"consumer name\" and \"consumer location\"\n",
    "    df_grouped = df.groupby([\"supplier name\", \"supplier location\"])[\"impact\"].sum().unstack()\n",
    "    df_grouped.plot(kind=\"bar\", stacked=True, ax=axes[2, 0])\n",
    "    axes[2, 0].set_title(\"Impact by Supplier Name & Location (Stacked)\")\n",
    "    axes[2, 0].set_ylabel(\"Impact\")\n",
    "    axes[2, 0].set_xticklabels(\n",
    "        [label.get_text().replace(\", \", \"\\n\") for label in axes[2, 0].get_xticklabels()],\n",
    "        rotation=45,\n",
    "        ha=\"right\",\n",
    "    )\n",
    "    axes[2, 0].legend(title=\"Supplier Location\", loc=\"center left\", ncol=2)\n",
    "\n",
    "    # 5. Bar plot of average \"CF\" by \"consumer location\"\n",
    "    df.groupby([\"supplier name\", \"supplier location\"])[\"CF\"].mean().plot(kind=\"bar\", ax=axes[2, 1])\n",
    "    axes[2, 1].set_title(\"Average CF by Supplier Location\")\n",
    "    axes[2, 1].set_ylabel(\"CF\")\n",
    "    axes[2, 1].tick_params(axis=\"x\", rotation=45)\n",
    "\n",
    "\n",
    "    plt.tight_layout()\n",
    "    plt.show()\n",
    "\n",
    "    \n",
    "\n",
    "  #LCA.score"
   ]
  },
  {
   "cell_type": "code",
   "execution_count": null,
   "id": "9c27d5f8-fbf1-469f-8daa-7ce8f5eb4480",
   "metadata": {
    "ExecuteTime": {
     "end_time": "2025-03-19T08:25:07.168564Z",
     "start_time": "2025-03-19T08:25:07.156602Z"
    }
   },
   "outputs": [],
   "source": [
    "df.sort_values(by=\"impact\", ascending=False).loc[:, \"supplier name\"]"
   ]
  },
  {
   "cell_type": "code",
   "execution_count": null,
   "id": "2c2841e9-ba9f-4536-82a0-5972d84ba459",
   "metadata": {},
   "outputs": [],
   "source": [
    "df.loc[df[\"consumer name\"] == \"soybean production\"]"
   ]
  },
  {
   "cell_type": "code",
   "execution_count": null,
   "id": "dc28b7a7-ed66-4e0b-ae43-116ea78b61c4",
   "metadata": {},
   "outputs": [],
   "source": [
    "df.sort_values(\"amount\", ascending=False)"
   ]
  },
  {
   "cell_type": "code",
   "execution_count": null,
   "id": "cf52fe08-b6a8-4c48-9ef0-4a68164c6e12",
   "metadata": {},
   "outputs": [],
   "source": [
    "df[\"CF\"].unique()"
   ]
  },
  {
   "cell_type": "code",
   "execution_count": null,
   "id": "b0d04e502fddab85",
   "metadata": {
    "ExecuteTime": {
     "end_time": "2025-03-14T12:57:31.989343Z",
     "start_time": "2025-03-14T12:57:31.985563Z"
    }
   },
   "outputs": [],
   "source": [
    "df.groupby([\"supplier name\", \"consumer location\"])[\"CF\"].mean()"
   ]
  },
  {
   "cell_type": "code",
   "execution_count": null,
   "id": "bc3b8566460bf0f",
   "metadata": {
    "ExecuteTime": {
     "end_time": "2025-03-14T12:21:26.350483Z",
     "start_time": "2025-03-14T12:21:26.348120Z"
    }
   },
   "outputs": [],
   "source": [
    "list(LCA.demand.keys())[0]"
   ]
  },
  {
   "cell_type": "code",
   "execution_count": null,
   "id": "10e5992c6e7da7a5",
   "metadata": {
    "ExecuteTime": {
     "end_time": "2025-03-13T18:44:05.856654Z",
     "start_time": "2025-03-13T18:44:05.790055Z"
    }
   },
   "outputs": [],
   "source": [
    "from constructive_geometries import geomatcher\n",
    "geo = geomatcher.Geomatcher()\n",
    "\n",
    "geo.within(\"PG\", biggest_first=False)"
   ]
  },
  {
   "cell_type": "code",
   "execution_count": null,
   "id": "dfb2406d-779e-4dc0-aa90-495c900003b8",
   "metadata": {},
   "outputs": [],
   "source": [
    "geo.contained(\"PG\", biggest_first=False)"
   ]
  },
  {
   "cell_type": "code",
   "execution_count": null,
   "id": "791d371ddd317c5f",
   "metadata": {
    "ExecuteTime": {
     "end_time": "2025-03-13T11:32:15.968542Z",
     "start_time": "2025-03-13T11:32:15.903143Z"
    }
   },
   "outputs": [],
   "source": [
    "set([x[\"supplier\"][\"name\"] for x in LCA.ignored_method_exchanges])"
   ]
  },
  {
   "cell_type": "code",
   "execution_count": null,
   "id": "a6184f20f6cb9f89",
   "metadata": {
    "ExecuteTime": {
     "end_time": "2025-03-13T11:24:29.740003Z",
     "start_time": "2025-03-13T11:24:27.371772Z"
    }
   },
   "outputs": [],
   "source": [
    "LCA.generate_cf_table()"
   ]
  },
  {
   "cell_type": "code",
   "execution_count": null,
   "id": "7961940618b7aca6",
   "metadata": {
    "ExecuteTime": {
     "end_time": "2024-12-15T17:50:34.701932Z",
     "start_time": "2024-12-15T17:50:34.696160Z"
    }
   },
   "outputs": [],
   "source": [
    "LCA.ignored_locations"
   ]
  },
  {
   "cell_type": "code",
   "execution_count": null,
   "id": "92b1b43be6023d7a",
   "metadata": {
    "ExecuteTime": {
     "end_time": "2025-03-12T15:31:19.780115Z",
     "start_time": "2025-03-12T15:31:19.775152Z"
    }
   },
   "outputs": [],
   "source": [
    "method = ('AWARE 1.2c', 'Country', 'mixed', 'yearly')\n",
    "convmethod = (\n",
    "  # 'ecoinvent-3.10',\n",
    "  'EF v3.1 EN15804',\n",
    "  'water use',\n",
    "  'user deprivation potential (deprivation-weighted water consumption)')"
   ]
  },
  {
   "cell_type": "code",
   "execution_count": null,
   "id": "e4bc7f7d309a36bf",
   "metadata": {
    "ExecuteTime": {
     "end_time": "2025-03-12T15:31:21.118432Z",
     "start_time": "2025-03-12T15:31:20.271537Z"
    }
   },
   "outputs": [],
   "source": [
    "import bw2calc\n",
    "\n",
    "convLCA = bw2calc.LCA({act: 1}, convmethod)\n",
    "convLCA.lci()\n",
    "convLCA.lcia()\n",
    "convLCA.score"
   ]
  },
  {
   "cell_type": "code",
   "execution_count": null,
   "id": "693d8b4bbb10bedb",
   "metadata": {},
   "outputs": [],
   "source": []
  }
 ],
 "metadata": {
  "kernelspec": {
   "display_name": "ab",
   "language": "python",
   "name": "python3"
  },
  "language_info": {
   "codemirror_mode": {
    "name": "ipython",
    "version": 3
   },
   "file_extension": ".py",
   "mimetype": "text/x-python",
   "name": "python",
   "nbconvert_exporter": "python",
   "pygments_lexer": "ipython3",
   "version": "3.11.12"
  }
 },
 "nbformat": 4,
 "nbformat_minor": 5
}
